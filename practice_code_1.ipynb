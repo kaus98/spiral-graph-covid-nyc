{
 "cells": [
  {
   "cell_type": "code",
   "execution_count": null,
   "metadata": {},
   "outputs": [],
   "source": [
    "# Code from https://www.codegrepper.com/code-examples/python/draw+spiral+in+matplotlib\n",
    "import numpy as np \n",
    "import matplotlib.pyplot as plt \n",
    "import matplotlib.cm as cm \n",
    "\n",
    "n = 256\n",
    "angle = np.linspace(0,12*2*np.pi, n)\n",
    "radius = np.linspace(.5,1.,n)\n",
    "\n",
    "x = radius * np.cos(angle)\n",
    "y = radius * np.sin(angle)\n",
    "\n",
    "plt.scatter(x,y,c = angle, cmap = cm.hsv)\n",
    "plt.show()"
   ]
  },
  {
   "cell_type": "code",
   "execution_count": 1,
   "metadata": {},
   "outputs": [
    {
     "ename": "ModuleNotFoundError",
     "evalue": "No module named 'wget'",
     "output_type": "error",
     "traceback": [
      "\u001b[1;31m---------------------------------------------------------------------------\u001b[0m",
      "\u001b[1;31mModuleNotFoundError\u001b[0m                       Traceback (most recent call last)",
      "\u001b[1;32mc:\\Users\\kausp\\Codes\\spiral-graph-covid-nyc\\spiral_prac.ipynb Cell 2'\u001b[0m in \u001b[0;36m<module>\u001b[1;34m\u001b[0m\n\u001b[0;32m      <a href='vscode-notebook-cell:/c%3A/Users/kausp/Codes/spiral-graph-covid-nyc/spiral_prac.ipynb#ch0000002?line=5'>6</a>\u001b[0m \u001b[39m# Imports\u001b[39;00m\n\u001b[0;32m      <a href='vscode-notebook-cell:/c%3A/Users/kausp/Codes/spiral-graph-covid-nyc/spiral_prac.ipynb#ch0000002?line=6'>7</a>\u001b[0m \u001b[39mimport\u001b[39;00m \u001b[39mos\u001b[39;00m\u001b[39m,\u001b[39m \u001b[39mjson\u001b[39;00m\n\u001b[1;32m----> <a href='vscode-notebook-cell:/c%3A/Users/kausp/Codes/spiral-graph-covid-nyc/spiral_prac.ipynb#ch0000002?line=7'>8</a>\u001b[0m \u001b[39mimport\u001b[39;00m \u001b[39mwget\u001b[39;00m \n\u001b[0;32m      <a href='vscode-notebook-cell:/c%3A/Users/kausp/Codes/spiral-graph-covid-nyc/spiral_prac.ipynb#ch0000002?line=8'>9</a>\u001b[0m \u001b[39mimport\u001b[39;00m \u001b[39mpandas\u001b[39;00m \u001b[39mas\u001b[39;00m \u001b[39mpd\u001b[39;00m\n\u001b[0;32m     <a href='vscode-notebook-cell:/c%3A/Users/kausp/Codes/spiral-graph-covid-nyc/spiral_prac.ipynb#ch0000002?line=9'>10</a>\u001b[0m \u001b[39mimport\u001b[39;00m \u001b[39mnumpy\u001b[39;00m \u001b[39mas\u001b[39;00m \u001b[39mnp\u001b[39;00m \n",
      "\u001b[1;31mModuleNotFoundError\u001b[0m: No module named 'wget'"
     ]
    }
   ],
   "source": [
    "## Download and Imports\n",
    "# Variables\n",
    "Download_Dataset = True\n",
    "File_Prefix = \"data/\"\n",
    "\n",
    "# Imports\n",
    "import os, json\n",
    "import wget \n",
    "import pandas as pd\n",
    "import numpy as np \n",
    "import matplotlib.pyplot as plt\n",
    "\n",
    "# Data Download and Preprocessing\n",
    "if Download_Dataset:\n",
    "    wget.download('https://api.covid19india.org/csv/latest/states.csv',File_Prefix+'states_.csv')\n",
    "    wget.download('https://api.covid19india.org/csv/latest/districts.csv',File_Prefix+'districts_.csv')\n",
    "    # wget.download('https://covid.ourworldindata.org/data/ecdc/full_data.csv',File_Prefix+'Covid_full_data.csv')\n",
    "    wget.download('https://covid.ourworldindata.org/data/owid-covid-data.csv',File_Prefix+'Covid_data.csv')\n",
    "    wget.download('https://api.covid19india.org/misc.json',File_Prefix+'Populations.json')\n",
    "    wget.download('https://raw.githubusercontent.com/terminate9298/Corona-Visualization-and-Prediction/main/Dataset/centroids.csv',File_Prefix+'centroids.csv')\n",
    "    wget.download('https://raw.githubusercontent.com/terminate9298/Corona-Visualization-and-Prediction/main/Dataset/tableconvert_csv_o4ycku.csv',File_Prefix+'tableconvert_csv_o4ycku.csv')\n",
    "\n",
    "World_ = pd.read_csv(File_Prefix+'Covid_data.csv')\n",
    "World_.fillna(0,inplace = True)\n",
    "World_['date'] = pd.to_datetime(World_['date'] , format = '%Y-%m-%d')\n",
    "basedate = pd.Timestamp(World_.date.min())\n",
    "World_['Days_Passed'] = (World_['date'] - basedate)/86400000000000\n",
    "World_['date'] = World_['date'].astype(str)\n",
    "World_['Days_Passed'] = World_['Days_Passed'].astype(int)\n",
    "\n",
    "world_locations = pd.read_csv(File_Prefix+'tableconvert_csv_o4ycku.csv')\n",
    "world_locations.columns = ['Country', 'Alpha-2 code', 'iso_code', 'Numeric code', 'Latitude (average)', 'Longitude (average)']\n",
    "World_ = World_.merge(world_locations , how = 'left' , on = ['iso_code'])\n",
    "World_ = World_[World_['continent']!= 0]\n",
    "\n",
    "## Country_code_here = \"IND\"\n",
    "code = \"USA\"\n",
    "country = World_[World_.iso_code == code]\n",
    "\n",
    "\n",
    "start_date = \"2020-01-01\"\n",
    "end_date = country.date.min()\n",
    "dates = pd.date_range(start_date, end_date)\n",
    "temp_ind = pd.DataFrame(dates[:-1], columns = [\"date\"])\n",
    "temp_ind[\"total_cases\"] = 0\n",
    "temp_ind[\"new_cases\"] = 0\n",
    "temp_ind[\"new_cases_smoothed\"] = 0\n",
    "\n",
    "basedate = pd.Timestamp(start_date)\n",
    "temp_ind['Days_Passed'] = (temp_ind['date'] - pd.to_datetime(basedate))/86400000000000\n",
    "temp_ind['Days_Passed'] = temp_ind['Days_Passed'].astype(int)\n",
    "\n",
    "country = pd.concat([temp_ind, country[[\"date\",\"total_cases\", \"Days_Passed\", \"new_cases\", \"new_cases_smoothed\"]]] , axis = 0)\n",
    "country['date'] = pd.to_datetime(country['date'])\n",
    "country.index = country['date']\n",
    "country.to_csv(f\"data/{code}_Data.csv\", index = False, header = True)"
   ]
  },
  {
   "cell_type": "code",
   "execution_count": null,
   "metadata": {},
   "outputs": [],
   "source": []
  }
 ],
 "metadata": {
  "kernelspec": {
   "display_name": "Python 3.8.12 ('kaus')",
   "language": "python",
   "name": "python3"
  },
  "language_info": {
   "codemirror_mode": {
    "name": "ipython",
    "version": 3
   },
   "file_extension": ".py",
   "mimetype": "text/x-python",
   "name": "python",
   "nbconvert_exporter": "python",
   "pygments_lexer": "ipython3",
   "version": "3.8.12"
  },
  "orig_nbformat": 4,
  "vscode": {
   "interpreter": {
    "hash": "5b01288f20822739d79e06ce257d5cc99f074733aee17b3634b860281ef9dbe6"
   }
  }
 },
 "nbformat": 4,
 "nbformat_minor": 2
}
