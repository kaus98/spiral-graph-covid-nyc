{
 "cells": [
  {
   "cell_type": "code",
   "execution_count": null,
   "metadata": {},
   "outputs": [],
   "source": [
    "# Code from https://www.codegrepper.com/code-examples/python/draw+spiral+in+matplotlib\n",
    "import numpy as np \n",
    "import matplotlib.pyplot as plt \n",
    "import matplotlib.cm as cm \n",
    "\n",
    "n = 256\n",
    "angle = np.linspace(0,12*2*np.pi, n)\n",
    "radius = np.linspace(.5,1.,n)\n",
    "\n",
    "x = radius * np.cos(angle)\n",
    "y = radius * np.sin(angle)\n",
    "\n",
    "plt.scatter(x,y,c = angle, cmap = cm.hsv)\n",
    "plt.show()"
   ]
  },
  {
   "cell_type": "code",
   "execution_count": 2,
   "metadata": {},
   "outputs": [
    {
     "ename": "TypeError",
     "evalue": "cannot astype a datetimelike from [timedelta64[ns]] to [int32]",
     "output_type": "error",
     "traceback": [
      "\u001b[1;31m---------------------------------------------------------------------------\u001b[0m",
      "\u001b[1;31mTypeError\u001b[0m                                 Traceback (most recent call last)",
      "\u001b[1;32mc:\\Users\\kausp\\Codes\\spiral-graph-covid-nyc\\spiral_prac.ipynb Cell 2'\u001b[0m in \u001b[0;36m<module>\u001b[1;34m\u001b[0m\n\u001b[0;32m     <a href='vscode-notebook-cell:/c%3A/Users/kausp/Codes/spiral-graph-covid-nyc/spiral_prac.ipynb#ch0000002?line=26'>27</a>\u001b[0m World_[\u001b[39m'\u001b[39m\u001b[39mDays_Passed\u001b[39m\u001b[39m'\u001b[39m] \u001b[39m=\u001b[39m (World_[\u001b[39m'\u001b[39m\u001b[39mdate\u001b[39m\u001b[39m'\u001b[39m] \u001b[39m-\u001b[39m basedate)\u001b[39m/\u001b[39m\u001b[39m86400000000000\u001b[39m\n\u001b[0;32m     <a href='vscode-notebook-cell:/c%3A/Users/kausp/Codes/spiral-graph-covid-nyc/spiral_prac.ipynb#ch0000002?line=27'>28</a>\u001b[0m World_[\u001b[39m'\u001b[39m\u001b[39mdate\u001b[39m\u001b[39m'\u001b[39m] \u001b[39m=\u001b[39m World_[\u001b[39m'\u001b[39m\u001b[39mdate\u001b[39m\u001b[39m'\u001b[39m]\u001b[39m.\u001b[39mastype(\u001b[39mstr\u001b[39m)\n\u001b[1;32m---> <a href='vscode-notebook-cell:/c%3A/Users/kausp/Codes/spiral-graph-covid-nyc/spiral_prac.ipynb#ch0000002?line=28'>29</a>\u001b[0m World_[\u001b[39m'\u001b[39m\u001b[39mDays_Passed\u001b[39m\u001b[39m'\u001b[39m] \u001b[39m=\u001b[39m World_[\u001b[39m'\u001b[39;49m\u001b[39mDays_Passed\u001b[39;49m\u001b[39m'\u001b[39;49m]\u001b[39m.\u001b[39;49mastype(\u001b[39mint\u001b[39;49m)\n\u001b[0;32m     <a href='vscode-notebook-cell:/c%3A/Users/kausp/Codes/spiral-graph-covid-nyc/spiral_prac.ipynb#ch0000002?line=30'>31</a>\u001b[0m world_locations \u001b[39m=\u001b[39m pd\u001b[39m.\u001b[39mread_csv(File_Prefix\u001b[39m+\u001b[39m\u001b[39m'\u001b[39m\u001b[39mtableconvert_csv_o4ycku.csv\u001b[39m\u001b[39m'\u001b[39m)\n\u001b[0;32m     <a href='vscode-notebook-cell:/c%3A/Users/kausp/Codes/spiral-graph-covid-nyc/spiral_prac.ipynb#ch0000002?line=31'>32</a>\u001b[0m world_locations\u001b[39m.\u001b[39mcolumns \u001b[39m=\u001b[39m [\u001b[39m'\u001b[39m\u001b[39mCountry\u001b[39m\u001b[39m'\u001b[39m, \u001b[39m'\u001b[39m\u001b[39mAlpha-2 code\u001b[39m\u001b[39m'\u001b[39m, \u001b[39m'\u001b[39m\u001b[39miso_code\u001b[39m\u001b[39m'\u001b[39m, \u001b[39m'\u001b[39m\u001b[39mNumeric code\u001b[39m\u001b[39m'\u001b[39m, \u001b[39m'\u001b[39m\u001b[39mLatitude (average)\u001b[39m\u001b[39m'\u001b[39m, \u001b[39m'\u001b[39m\u001b[39mLongitude (average)\u001b[39m\u001b[39m'\u001b[39m]\n",
      "File \u001b[1;32mc:\\Users\\kausp\\anaconda3\\envs\\kaus\\lib\\site-packages\\pandas\\core\\generic.py:5920\u001b[0m, in \u001b[0;36mNDFrame.astype\u001b[1;34m(self, dtype, copy, errors)\u001b[0m\n\u001b[0;32m   5913\u001b[0m     results \u001b[39m=\u001b[39m [\n\u001b[0;32m   5914\u001b[0m         \u001b[39mself\u001b[39m\u001b[39m.\u001b[39miloc[:, i]\u001b[39m.\u001b[39mastype(dtype, copy\u001b[39m=\u001b[39mcopy)\n\u001b[0;32m   5915\u001b[0m         \u001b[39mfor\u001b[39;00m i \u001b[39min\u001b[39;00m \u001b[39mrange\u001b[39m(\u001b[39mlen\u001b[39m(\u001b[39mself\u001b[39m\u001b[39m.\u001b[39mcolumns))\n\u001b[0;32m   5916\u001b[0m     ]\n\u001b[0;32m   5918\u001b[0m \u001b[39melse\u001b[39;00m:\n\u001b[0;32m   5919\u001b[0m     \u001b[39m# else, only a single dtype is given\u001b[39;00m\n\u001b[1;32m-> 5920\u001b[0m     new_data \u001b[39m=\u001b[39m \u001b[39mself\u001b[39;49m\u001b[39m.\u001b[39;49m_mgr\u001b[39m.\u001b[39;49mastype(dtype\u001b[39m=\u001b[39;49mdtype, copy\u001b[39m=\u001b[39;49mcopy, errors\u001b[39m=\u001b[39;49merrors)\n\u001b[0;32m   5921\u001b[0m     \u001b[39mreturn\u001b[39;00m \u001b[39mself\u001b[39m\u001b[39m.\u001b[39m_constructor(new_data)\u001b[39m.\u001b[39m__finalize__(\u001b[39mself\u001b[39m, method\u001b[39m=\u001b[39m\u001b[39m\"\u001b[39m\u001b[39mastype\u001b[39m\u001b[39m\"\u001b[39m)\n\u001b[0;32m   5923\u001b[0m \u001b[39m# GH 33113: handle empty frame or series\u001b[39;00m\n",
      "File \u001b[1;32mc:\\Users\\kausp\\anaconda3\\envs\\kaus\\lib\\site-packages\\pandas\\core\\internals\\managers.py:419\u001b[0m, in \u001b[0;36mBaseBlockManager.astype\u001b[1;34m(self, dtype, copy, errors)\u001b[0m\n\u001b[0;32m    418\u001b[0m \u001b[39mdef\u001b[39;00m \u001b[39mastype\u001b[39m(\u001b[39mself\u001b[39m: T, dtype, copy: \u001b[39mbool\u001b[39m \u001b[39m=\u001b[39m \u001b[39mFalse\u001b[39;00m, errors: \u001b[39mstr\u001b[39m \u001b[39m=\u001b[39m \u001b[39m\"\u001b[39m\u001b[39mraise\u001b[39m\u001b[39m\"\u001b[39m) \u001b[39m-\u001b[39m\u001b[39m>\u001b[39m T:\n\u001b[1;32m--> 419\u001b[0m     \u001b[39mreturn\u001b[39;00m \u001b[39mself\u001b[39;49m\u001b[39m.\u001b[39;49mapply(\u001b[39m\"\u001b[39;49m\u001b[39mastype\u001b[39;49m\u001b[39m\"\u001b[39;49m, dtype\u001b[39m=\u001b[39;49mdtype, copy\u001b[39m=\u001b[39;49mcopy, errors\u001b[39m=\u001b[39;49merrors)\n",
      "File \u001b[1;32mc:\\Users\\kausp\\anaconda3\\envs\\kaus\\lib\\site-packages\\pandas\\core\\internals\\managers.py:304\u001b[0m, in \u001b[0;36mBaseBlockManager.apply\u001b[1;34m(self, f, align_keys, ignore_failures, **kwargs)\u001b[0m\n\u001b[0;32m    302\u001b[0m         applied \u001b[39m=\u001b[39m b\u001b[39m.\u001b[39mapply(f, \u001b[39m*\u001b[39m\u001b[39m*\u001b[39mkwargs)\n\u001b[0;32m    303\u001b[0m     \u001b[39melse\u001b[39;00m:\n\u001b[1;32m--> 304\u001b[0m         applied \u001b[39m=\u001b[39m \u001b[39mgetattr\u001b[39;49m(b, f)(\u001b[39m*\u001b[39;49m\u001b[39m*\u001b[39;49mkwargs)\n\u001b[0;32m    305\u001b[0m \u001b[39mexcept\u001b[39;00m (\u001b[39mTypeError\u001b[39;00m, \u001b[39mNotImplementedError\u001b[39;00m):\n\u001b[0;32m    306\u001b[0m     \u001b[39mif\u001b[39;00m \u001b[39mnot\u001b[39;00m ignore_failures:\n",
      "File \u001b[1;32mc:\\Users\\kausp\\anaconda3\\envs\\kaus\\lib\\site-packages\\pandas\\core\\internals\\blocks.py:582\u001b[0m, in \u001b[0;36mBlock.astype\u001b[1;34m(self, dtype, copy, errors)\u001b[0m\n\u001b[0;32m    564\u001b[0m \u001b[39m\"\"\"\u001b[39;00m\n\u001b[0;32m    565\u001b[0m \u001b[39mCoerce to the new dtype.\u001b[39;00m\n\u001b[0;32m    566\u001b[0m \n\u001b[1;32m   (...)\u001b[0m\n\u001b[0;32m    578\u001b[0m \u001b[39mBlock\u001b[39;00m\n\u001b[0;32m    579\u001b[0m \u001b[39m\"\"\"\u001b[39;00m\n\u001b[0;32m    580\u001b[0m values \u001b[39m=\u001b[39m \u001b[39mself\u001b[39m\u001b[39m.\u001b[39mvalues\n\u001b[1;32m--> 582\u001b[0m new_values \u001b[39m=\u001b[39m astype_array_safe(values, dtype, copy\u001b[39m=\u001b[39;49mcopy, errors\u001b[39m=\u001b[39;49merrors)\n\u001b[0;32m    584\u001b[0m new_values \u001b[39m=\u001b[39m maybe_coerce_values(new_values)\n\u001b[0;32m    585\u001b[0m newb \u001b[39m=\u001b[39m \u001b[39mself\u001b[39m\u001b[39m.\u001b[39mmake_block(new_values)\n",
      "File \u001b[1;32mc:\\Users\\kausp\\anaconda3\\envs\\kaus\\lib\\site-packages\\pandas\\core\\dtypes\\cast.py:1292\u001b[0m, in \u001b[0;36mastype_array_safe\u001b[1;34m(values, dtype, copy, errors)\u001b[0m\n\u001b[0;32m   1289\u001b[0m     dtype \u001b[39m=\u001b[39m dtype\u001b[39m.\u001b[39mnumpy_dtype\n\u001b[0;32m   1291\u001b[0m \u001b[39mtry\u001b[39;00m:\n\u001b[1;32m-> 1292\u001b[0m     new_values \u001b[39m=\u001b[39m astype_array(values, dtype, copy\u001b[39m=\u001b[39;49mcopy)\n\u001b[0;32m   1293\u001b[0m \u001b[39mexcept\u001b[39;00m (\u001b[39mValueError\u001b[39;00m, \u001b[39mTypeError\u001b[39;00m):\n\u001b[0;32m   1294\u001b[0m     \u001b[39m# e.g. astype_nansafe can fail on object-dtype of strings\u001b[39;00m\n\u001b[0;32m   1295\u001b[0m     \u001b[39m#  trying to convert to float\u001b[39;00m\n\u001b[0;32m   1296\u001b[0m     \u001b[39mif\u001b[39;00m errors \u001b[39m==\u001b[39m \u001b[39m\"\u001b[39m\u001b[39mignore\u001b[39m\u001b[39m\"\u001b[39m:\n",
      "File \u001b[1;32mc:\\Users\\kausp\\anaconda3\\envs\\kaus\\lib\\site-packages\\pandas\\core\\dtypes\\cast.py:1222\u001b[0m, in \u001b[0;36mastype_array\u001b[1;34m(values, dtype, copy)\u001b[0m\n\u001b[0;32m   1214\u001b[0m \u001b[39mif\u001b[39;00m (\n\u001b[0;32m   1215\u001b[0m     values\u001b[39m.\u001b[39mdtype\u001b[39m.\u001b[39mkind \u001b[39min\u001b[39;00m [\u001b[39m\"\u001b[39m\u001b[39mm\u001b[39m\u001b[39m\"\u001b[39m, \u001b[39m\"\u001b[39m\u001b[39mM\u001b[39m\u001b[39m\"\u001b[39m]\n\u001b[0;32m   1216\u001b[0m     \u001b[39mand\u001b[39;00m dtype\u001b[39m.\u001b[39mkind \u001b[39min\u001b[39;00m [\u001b[39m\"\u001b[39m\u001b[39mi\u001b[39m\u001b[39m\"\u001b[39m, \u001b[39m\"\u001b[39m\u001b[39mu\u001b[39m\u001b[39m\"\u001b[39m]\n\u001b[1;32m   (...)\u001b[0m\n\u001b[0;32m   1219\u001b[0m ):\n\u001b[0;32m   1220\u001b[0m     \u001b[39m# TODO(2.0) remove special case once deprecation on DTA/TDA is enforced\u001b[39;00m\n\u001b[0;32m   1221\u001b[0m     msg \u001b[39m=\u001b[39m \u001b[39mrf\u001b[39m\u001b[39m\"\u001b[39m\u001b[39mcannot astype a datetimelike from [\u001b[39m\u001b[39m{\u001b[39;00mvalues\u001b[39m.\u001b[39mdtype\u001b[39m}\u001b[39;00m\u001b[39m] to [\u001b[39m\u001b[39m{\u001b[39;00mdtype\u001b[39m}\u001b[39;00m\u001b[39m]\u001b[39m\u001b[39m\"\u001b[39m\n\u001b[1;32m-> 1222\u001b[0m     \u001b[39mraise\u001b[39;00m \u001b[39mTypeError\u001b[39;00m(msg)\n\u001b[0;32m   1224\u001b[0m \u001b[39mif\u001b[39;00m is_datetime64tz_dtype(dtype) \u001b[39mand\u001b[39;00m is_datetime64_dtype(values\u001b[39m.\u001b[39mdtype):\n\u001b[0;32m   1225\u001b[0m     \u001b[39mreturn\u001b[39;00m astype_dt64_to_dt64tz(values, dtype, copy, via_utc\u001b[39m=\u001b[39m\u001b[39mTrue\u001b[39;00m)\n",
      "\u001b[1;31mTypeError\u001b[0m: cannot astype a datetimelike from [timedelta64[ns]] to [int32]"
     ]
    }
   ],
   "source": [
    "## Download and Imports\n",
    "# Variables\n",
    "Download_Dataset = True\n",
    "File_Prefix = \"data/\"\n",
    "\n",
    "# Imports\n",
    "import os, json\n",
    "import wget \n",
    "import pandas as pd\n",
    "import numpy as np \n",
    "import matplotlib.pyplot as plt\n",
    "\n",
    "# Data Download and Preprocessing\n",
    "if Download_Dataset:\n",
    "    wget.download('https://api.covid19india.org/csv/latest/states.csv',File_Prefix+'states_.csv')\n",
    "    wget.download('https://api.covid19india.org/csv/latest/districts.csv',File_Prefix+'districts_.csv')\n",
    "    # wget.download('https://covid.ourworldindata.org/data/ecdc/full_data.csv',File_Prefix+'Covid_full_data.csv')\n",
    "    wget.download('https://covid.ourworldindata.org/data/owid-covid-data.csv',File_Prefix+'Covid_data.csv')\n",
    "    wget.download('https://api.covid19india.org/misc.json',File_Prefix+'Populations.json')\n",
    "    wget.download('https://raw.githubusercontent.com/terminate9298/Corona-Visualization-and-Prediction/main/Dataset/centroids.csv',File_Prefix+'centroids.csv')\n",
    "    wget.download('https://raw.githubusercontent.com/terminate9298/Corona-Visualization-and-Prediction/main/Dataset/tableconvert_csv_o4ycku.csv',File_Prefix+'tableconvert_csv_o4ycku.csv')\n",
    "\n",
    "World_ = pd.read_csv(File_Prefix+'Covid_data.csv')\n",
    "World_.fillna(0,inplace = True)\n",
    "World_['date'] = pd.to_datetime(World_['date'] , format = '%Y-%m-%d')\n",
    "basedate = pd.Timestamp(World_.date.min())\n",
    "World_['Days_Passed'] = (World_['date'] - basedate)/86400000000000\n",
    "World_['date'] = World_['date'].astype(str)\n",
    "World_['Days_Passed'] = World_['Days_Passed'].astype(int)\n",
    "\n",
    "world_locations = pd.read_csv(File_Prefix+'tableconvert_csv_o4ycku.csv')\n",
    "world_locations.columns = ['Country', 'Alpha-2 code', 'iso_code', 'Numeric code', 'Latitude (average)', 'Longitude (average)']\n",
    "World_ = World_.merge(world_locations , how = 'left' , on = ['iso_code'])\n",
    "World_ = World_[World_['continent']!= 0]\n",
    "\n",
    "## Country_code_here = \"IND\"\n",
    "code = \"USA\"\n",
    "country = World_[World_.iso_code == code]\n",
    "\n",
    "\n",
    "start_date = \"2020-01-01\"\n",
    "end_date = country.date.min()\n",
    "dates = pd.date_range(start_date, end_date)\n",
    "temp_ind = pd.DataFrame(dates[:-1], columns = [\"date\"])\n",
    "temp_ind[\"total_cases\"] = 0\n",
    "temp_ind[\"new_cases\"] = 0\n",
    "temp_ind[\"new_cases_smoothed\"] = 0\n",
    "\n",
    "basedate = pd.Timestamp(start_date)\n",
    "temp_ind['Days_Passed'] = (temp_ind['date'] - pd.to_datetime(basedate))/86400000000000\n",
    "temp_ind['Days_Passed'] = temp_ind['Days_Passed'].astype(int)\n",
    "\n",
    "country = pd.concat([temp_ind, country[[\"date\",\"total_cases\", \"Days_Passed\", \"new_cases\", \"new_cases_smoothed\"]]] , axis = 0)\n",
    "country['date'] = pd.to_datetime(country['date'])\n",
    "country.index = country['date']\n",
    "country.to_csv(f\"data/{code}_Data.csv\", index = False, header = True)"
   ]
  },
  {
   "cell_type": "code",
   "execution_count": null,
   "metadata": {},
   "outputs": [],
   "source": []
  }
 ],
 "metadata": {
  "kernelspec": {
   "display_name": "Python 3.8.12 ('kaus')",
   "language": "python",
   "name": "python3"
  },
  "language_info": {
   "codemirror_mode": {
    "name": "ipython",
    "version": 3
   },
   "file_extension": ".py",
   "mimetype": "text/x-python",
   "name": "python",
   "nbconvert_exporter": "python",
   "pygments_lexer": "ipython3",
   "version": "3.8.12"
  },
  "orig_nbformat": 4,
  "vscode": {
   "interpreter": {
    "hash": "5b01288f20822739d79e06ce257d5cc99f074733aee17b3634b860281ef9dbe6"
   }
  }
 },
 "nbformat": 4,
 "nbformat_minor": 2
}
